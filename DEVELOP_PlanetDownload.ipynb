{
 "cells": [
  {
   "cell_type": "markdown",
   "metadata": {},
   "source": [
    "# Geo Skills Building: Planet Data\n",
    "Date: May 25, 2021 <br/>\n",
    "Led by Erica Carcelen and Scott Cunningham <br/>\n",
    "Code pulled from [ordering_delivery.ipynb](https://github.com/planetlabs/notebooks/blob/master/jupyter-notebooks/orders/ordering_and_delivery.ipynb) in the [Planet Labs repository]( https://github.com/planetlabs/notebooks/tree/master/jupyter-notebooks)\n"
   ]
  },
  {
   "cell_type": "markdown",
   "metadata": {},
   "source": [
    "## Background\n",
    "#### NASA Data Buy\n",
    "In April 2020, NASA expanded their subscription with Planet to provide imagery to all NASA-funded research programs (including DEVELOP!) This subscription includes access to the PlanetScope & RapidEye imagery for dates more than 30 days ago. More information about these products can be found [here](https://assets.planet.com/docs/Planet_Combined_Imagery_Product_Specs_letter_screen.pdf).<br/>\n",
    "Because participants are with the program for such a short period of time, access to NASA's subscription will be facilitated through the Fellow. If your team needs access and you have not setup an account through NASA's subscription, the Fellow should contact Geoinformatics or NPO. The Fellow will place imagery orders for their team and manage access to the imagery. Project partners cannot receive the original, raw imagery but they can receive products (map products, data products - NDVI, NWI, etc.). Please review and share the terms of use with your team. This notebook outlines the process for the Fellow to order imagery for their team through Google Earth Engine. \n",
    "#### Norwegian Data Buy - NICFI Program\n",
    "Under Norway's International Climate & Forests Initiative (NICFI), anyone can access Planet's high-resolution, analysis-ready mosaics of the world's tropics. More information about the NICFI program can be found [here](https://assets.planet.com/docs/NICFI_UserGuidesFAQ.pdf). Because anyone can access this imagery, you or your participants can setup an account by filling out [this form](https://www.planet.com/nicfi/) and downloading imagery with the [QGIS or ArcGIS plugin](https://developers.planet.com/integrations/). Please note that if you've already set an up account with NASA's subscription, you must sign-up for an account under NICFI with a <i>different email</i>. Planet plans to enable NICFI download through Google Earth Engine, but it is currently not available."
   ]
  },
  {
   "cell_type": "markdown",
   "metadata": {},
   "source": [
    "## Setup\n",
    "Fellows will facilitate ordering Planet imagery under NASA's subscription for their team. You will work with their team to get the ids for the imagery needed and the Fellow will submit an order to Planet's API under their NASA account. With the code in this notebook, you'll submit an order and Planet will deliver your order as a GEE asset to a Google Cloud Project. As members of the Google Cloud Project, your team can then access the imagery for the duration of the term. Below are the steps to get setup, which were pulled from [Planet's GEE Setup Guide](https://developers.planet.com/docs/integrations/gee/quickstart/).\n",
    "#### Enable Google Cloud Projects\n",
    "To use Planet's GEE delivery, your GEE account must be integrated with Google Cloud Projects.\n",
    "Upgrade your existing GEE account by submitting a request to Google with [this form](https://docs.google.com/forms/d/e/1FAIpQLSdUR5j6lfcsTh3k5H1RJYKQKLRgSheAzKLkYfDdnx9YQ6wUtw/viewform?usp=sf_link).\n",
    "#### Create Google Cloud Project\n",
    "Google does not notify you when your account has been upgraded, but it should only take a few days. <br/>\n",
    "Once your account has been upgraded, a pop-up will appear the first time you open [GEE Code Editor](https://code.earthengine.google.com/) prompting you to select or create a cloud project.<br/> \n",
    "You can also create a project by following [this link](https://console.cloud.google.com/projectcreate). <br/>\n",
    "More information about managing cloud projects can be found [here](https://cloud.google.com/resource-manager/docs/creating-managing-projects).\n",
    "#### Enable Earth Engine API\n",
    "Now you need to enable the Earth Engine API for your cloud project. <br/> \n",
    "Navigate to the [Earth Engine API on the Google Cloud Console](https://console.cloud.google.com/apis/library/earthengine.googleapis.com). <br/>Select your cloud project from the drop down at the top, and click `Enable`. <br/>\n",
    "Now your Code Editor will look like normal, but the top right icon will have your cloud project name instead of your email and there will be a `Cloud Assets` section on your `Assets` tab. \n",
    "#### Grant Planet's Service Account Access\n",
    "The final step is to grant Planet access to your cloud project so that they can deliver the imagery as a Cloud Asset. <br/>\n",
    "Navigate to your [Google Cloud Platform Console](https://console.cloud.google.com/home/dashboard).<br/>\n",
    "Select the `IAM & Admin` page.<br/>\n",
    "Check that the correct cloud project is in the drop-down at the top of the page.<br/>\n",
    "On the `IAM` page, select `Add` and paste <b>`planet-gee-uploader@planet-earthengine-staging.iam.gserviceaccount.com`</b> as the New Member and select <b>`Earth Engine Resource Writer`</b> as the `Role` <br/>\n",
    "You can also add your participants to the cloud project as `Editors` on this page. More information about the various roles can be found [here](https://cloud.google.com/iam/help/roles/predefined-roles-reference?authuser=1&_ga=2.30224058.-424489327.1609826186)"
   ]
  },
  {
   "cell_type": "markdown",
   "metadata": {},
   "source": [
    "## Select Imagery\n",
    "#### Prepare Delivery to GEE\n",
    "To have Planet imagery delivered to GEE, there must be an exisiting image collection in your Cloud Assets where Planet can put the images. \n",
    "In [GEE Code Editor](https://code.earthengine.google.com/), go the `Assets` tab. <br/>\n",
    "Click `New`, select `Image collection` from the drop-down menu, and give it a descriptive name (no spaces).\n",
    "#### Get the Order Information\n",
    "The remaining information needed for your order are the API Key for your account and the Image IDs for the imagery you're ordering. <br/>\n",
    "Retrieve your API Key (copy to your clipboard) from the Profile page on your [Planet Account](https://www.planet.com/account/#/profile)<br/>\n",
    "You or your participants can browse imagery using [Planet Explorer](https://www.planet.com/explorer/) or the ArcGIS/QGIS plug-in. Retrieve the scene ids and store them in a list for later."
   ]
  },
  {
   "cell_type": "markdown",
   "metadata": {},
   "source": [
    "## Order Imagery to GEE\n",
    "Now that you're setup and have the information for your order, use the code below to input an order. This code engages with Planet's Order API and submits the order as a JSON.<br/>\n",
    "My example will submit an order with the following information:<br/>\n",
    "`2 Planet Images:\"20210316_185700_36_241c\", \"20210317_180625_00_2431\"`<br/>\n",
    "`GEE Project: ee-coastalcawater`<br/>\n",
    "`GEE Image Collection: Carmel_March162021`"
   ]
  },
  {
   "cell_type": "code",
   "execution_count": null,
   "metadata": {},
   "outputs": [],
   "source": [
    "#import packages required for the code\n",
    "import json\n",
    "import os\n",
    "import pathlib\n",
    "import time\n",
    "\n",
    "import requests\n",
    "from requests.auth import HTTPBasicAuth"
   ]
  },
  {
   "cell_type": "markdown",
   "metadata": {},
   "source": [
    "#### Authenticating\n",
    "Setting up the API Key"
   ]
  },
  {
   "cell_type": "code",
   "execution_count": null,
   "metadata": {},
   "outputs": [],
   "source": [
    "# Define API Key as environment variable\n",
    "## Enter your API Key on the following line and uncomment it:\n",
    "#os.environ['PL_API_KEY'] = 'YOUR API KEY HERE'"
   ]
  },
  {
   "cell_type": "code",
   "execution_count": null,
   "metadata": {},
   "outputs": [],
   "source": [
    "# Setup the API Key from the 'PL_API_Key' environment variable\n",
    "PLANET_API_KEY = os.getenv('PL_API_KEY')"
   ]
  },
  {
   "cell_type": "code",
   "execution_count": null,
   "metadata": {},
   "outputs": [],
   "source": [
    "# Define the Planet Data orders URL\n",
    "orders_url = 'https://api.planet.com/basemaps/v1/mosaics'"
   ]
  },
  {
   "cell_type": "code",
   "execution_count": null,
   "metadata": {},
   "outputs": [],
   "source": [
    "#Curl example\n",
    "#To check your orders list and make sure you have the permissions you need, uncomment the following line to run curl\n",
    "!curl -L -H \"Authorization: api-key $PLANET_API_KEY\" $orders_url"
   ]
  },
  {
   "cell_type": "markdown",
   "metadata": {},
   "source": [
    "We are using requests to communicate with the orders v2 API. To verify that we've setup the API key correctly and we're connected to our Planet account, we'll check our orders list.\n",
    "\n",
    "If you have setup correctly, the output of the below code chunk should be: <Response [200]> <br/>\n",
    "To troubleshoot other response codes, see the [List Orders](https://developers.planet.com/docs/orders/reference/#operation/listOrders) AOI reference."
   ]
  },
  {
   "cell_type": "code",
   "execution_count": null,
   "metadata": {},
   "outputs": [],
   "source": [
    "# Verify connection to Planet account\n",
    "auth = HTTPBasicAuth(PLANET_API_KEY, '')\n",
    "response = requests.get(orders_url, auth=auth)\n",
    "response"
   ]
  },
  {
   "cell_type": "markdown",
   "metadata": {},
   "source": [
    "Now we can access orders that have been previously made with this account. Below we'll see how many orders have been made. If you've never ordered imagery before, the output value should be 0! You can verify this value by looking at your account on the Planet website"
   ]
  },
  {
   "cell_type": "code",
   "execution_count": null,
   "metadata": {},
   "outputs": [],
   "source": [
    "# Access list of orders associated with the account\n",
    "orders = response.json()['orders']\n",
    "len(orders)"
   ]
  },
  {
   "cell_type": "markdown",
   "metadata": {},
   "source": [
    "#### Place Order"
   ]
  },
  {
   "cell_type": "code",
   "execution_count": null,
   "metadata": {},
   "outputs": [],
   "source": [
    "# set content type to json\n",
    "headers = {'content-type': 'application/json'}"
   ]
  },
  {
   "cell_type": "code",
   "execution_count": null,
   "metadata": {},
   "outputs": [],
   "source": [
    "# Define request parameters\n",
    "## Here is where you'll modify information for the images you are ordering\n",
    "request = {\n",
    "    #order specifications\n",
    "    \"name\": \"Carmel March 16 Breach Event\", #name for your order\n",
    "    \"products\": [\n",
    "        {\n",
    "            \"item_ids\": [\n",
    "                \"20210316_185700_36_241c\", #ids for images you are ordering\n",
    "                \"20210317_180625_00_2431\"\n",
    "            ],\n",
    "            \"item_type\": \"PSScene4Band\", #image type\n",
    "            \"product_bundle\": \"analytic_sr_udm2\" #product bundle\n",
    "        }\n",
    "    ],\n",
    "    #delivery specifications\n",
    "    \"delivery\": {\n",
    "        \"google_earth_engine\": {\n",
    "            \"project\": \"ee-coastalcawater\", #cloud project name\n",
    "            \"collection\": \"Carmel_March162021\" #empty collection name\n",
    "        }\n",
    "    }\n",
    "}"
   ]
  },
  {
   "cell_type": "code",
   "execution_count": null,
   "metadata": {},
   "outputs": [],
   "source": [
    "# Define function to place order\n",
    "def place_order(request, auth):\n",
    "    response = requests.post(orders_url, data=json.dumps(request), auth=auth, headers=headers)\n",
    "    print(response)\n",
    "    order_id = response.json()['id']\n",
    "    print(order_id)\n",
    "    order_url = orders_url + '/' + order_id\n",
    "    return order_url"
   ]
  },
  {
   "cell_type": "code",
   "execution_count": null,
   "metadata": {},
   "outputs": [],
   "source": [
    "# Send request and place order\n",
    "## if successul, the output will be <Response [202]> and your Order Id\n",
    "order_url = place_order(request, auth)"
   ]
  },
  {
   "cell_type": "markdown",
   "metadata": {},
   "source": [
    "#### Poll for Order Success\n",
    "We have the id for our order, but we don't know if it's been successfully fulfilled. The following code will check the status of the order every 10 seconds. If it times out before returning \"success\", \"failed\", or \"partial\", you can re-run the code to check the status or increase the time step. "
   ]
  },
  {
   "cell_type": "code",
   "execution_count": null,
   "metadata": {},
   "outputs": [],
   "source": [
    "# Define function to check order status\n",
    "def poll_for_success(order_url, auth, num_loops=30):\n",
    "    count = 0\n",
    "    while(count < num_loops):\n",
    "        count += 1\n",
    "        r = requests.get(order_url, auth=auth)\n",
    "        response = r.json()\n",
    "        state = response['state']\n",
    "        print(state)\n",
    "        end_states = ['success', 'failed', 'partial']\n",
    "        if state in end_states:\n",
    "            break\n",
    "        time.sleep(10)\n",
    "\n",
    "poll_for_success(order_url, auth)"
   ]
  },
  {
   "cell_type": "markdown",
   "metadata": {},
   "source": [
    "#### Check Results\n",
    "Now we can check the results of our order request! This code access the results of your order and lists the filenames of the results. <br/>\n",
    "If you had a \"partial\" return message, you can check which images were successfully delivered.<br/>\n",
    "You will get an error if you had a \"failed\" return message because no results were produced."
   ]
  },
  {
   "cell_type": "code",
   "execution_count": null,
   "metadata": {},
   "outputs": [],
   "source": [
    "r = requests.get(order_url, auth=auth)\n",
    "response = r.json()\n",
    "results = response['_links']['results']\n",
    "\n",
    "[r['name'] for r in results]"
   ]
  },
  {
   "cell_type": "markdown",
   "metadata": {},
   "source": [
    "## Your team is ready to go!\n",
    "Once successful, your Planet imagery is delivered straight to the assets of your GEE Cloud Project! As members of your cloud project, your participants should automatically be able to access the image collection and call it in to a GEE script."
   ]
  }
 ],
 "metadata": {
  "celltoolbar": "Raw Cell Format",
  "kernelspec": {
   "display_name": "Python 3",
   "language": "python",
   "name": "python3"
  },
  "language_info": {
   "codemirror_mode": {
    "name": "ipython",
    "version": 3
   },
   "file_extension": ".py",
   "mimetype": "text/x-python",
   "name": "python",
   "nbconvert_exporter": "python",
   "pygments_lexer": "ipython3",
   "version": "3.8.3"
  }
 },
 "nbformat": 4,
 "nbformat_minor": 4
}
